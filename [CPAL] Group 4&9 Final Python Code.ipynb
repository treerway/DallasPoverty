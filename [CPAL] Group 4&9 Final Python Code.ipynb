{
 "cells": [
  {
   "cell_type": "markdown",
   "metadata": {},
   "source": [
    "### Import library "
   ]
  },
  {
   "cell_type": "code",
   "execution_count": 1,
   "metadata": {},
   "outputs": [],
   "source": [
    "import numpy as np\n",
    "import pandas as pd\n",
    "import os \n",
    "import matplotlib.pyplot as plt\n",
    "import seaborn as sns"
   ]
  },
  {
   "cell_type": "code",
   "execution_count": 2,
   "metadata": {},
   "outputs": [],
   "source": [
    "from IPython.core.interactiveshell import InteractiveShell\n",
    "InteractiveShell.ast_node_interactivity = \"all\""
   ]
  },
  {
   "cell_type": "markdown",
   "metadata": {},
   "source": [
    "### Data  Load"
   ]
  },
  {
   "cell_type": "code",
   "execution_count": 3,
   "metadata": {},
   "outputs": [],
   "source": [
    "\n",
    "family = pd.read_excel('Combinedata_all.xlsx')"
   ]
  },
  {
   "cell_type": "code",
   "execution_count": 4,
   "metadata": {},
   "outputs": [
    {
     "data": {
      "text/html": [
       "<div>\n",
       "<style scoped>\n",
       "    .dataframe tbody tr th:only-of-type {\n",
       "        vertical-align: middle;\n",
       "    }\n",
       "\n",
       "    .dataframe tbody tr th {\n",
       "        vertical-align: top;\n",
       "    }\n",
       "\n",
       "    .dataframe thead th {\n",
       "        text-align: right;\n",
       "    }\n",
       "</style>\n",
       "<table border=\"1\" class=\"dataframe\">\n",
       "  <thead>\n",
       "    <tr style=\"text-align: right;\">\n",
       "      <th></th>\n",
       "      <th>geoid</th>\n",
       "      <th>County</th>\n",
       "      <th>Edu</th>\n",
       "      <th>Income</th>\n",
       "      <th>Poverty</th>\n",
       "      <th>Enroll</th>\n",
       "      <th>Both_Parents</th>\n",
       "      <th>Single_Mother</th>\n",
       "      <th>Single_Father</th>\n",
       "      <th>Orphanchild</th>\n",
       "      <th>Avg_Family_size</th>\n",
       "      <th>PoorChild</th>\n",
       "      <th>Disablity</th>\n",
       "      <th>N_of_Owners</th>\n",
       "    </tr>\n",
       "  </thead>\n",
       "  <tbody>\n",
       "    <tr>\n",
       "      <th>0</th>\n",
       "      <td>14000US48085030100</td>\n",
       "      <td>Collin County</td>\n",
       "      <td>849</td>\n",
       "      <td>63208</td>\n",
       "      <td>726</td>\n",
       "      <td>1748</td>\n",
       "      <td>612</td>\n",
       "      <td>81</td>\n",
       "      <td>41</td>\n",
       "      <td>404</td>\n",
       "      <td>3.50</td>\n",
       "      <td>122</td>\n",
       "      <td>8.5690</td>\n",
       "      <td>1649</td>\n",
       "    </tr>\n",
       "    <tr>\n",
       "      <th>1</th>\n",
       "      <td>14000US48085030201</td>\n",
       "      <td>Collin County</td>\n",
       "      <td>605</td>\n",
       "      <td>77847</td>\n",
       "      <td>253</td>\n",
       "      <td>912</td>\n",
       "      <td>330</td>\n",
       "      <td>39</td>\n",
       "      <td>46</td>\n",
       "      <td>136</td>\n",
       "      <td>3.19</td>\n",
       "      <td>58</td>\n",
       "      <td>0.0000</td>\n",
       "      <td>2607</td>\n",
       "    </tr>\n",
       "    <tr>\n",
       "      <th>2</th>\n",
       "      <td>14000US48085030202</td>\n",
       "      <td>Collin County</td>\n",
       "      <td>398</td>\n",
       "      <td>75506</td>\n",
       "      <td>316</td>\n",
       "      <td>436</td>\n",
       "      <td>354</td>\n",
       "      <td>16</td>\n",
       "      <td>0</td>\n",
       "      <td>158</td>\n",
       "      <td>3.23</td>\n",
       "      <td>53</td>\n",
       "      <td>0.0000</td>\n",
       "      <td>1505</td>\n",
       "    </tr>\n",
       "    <tr>\n",
       "      <th>3</th>\n",
       "      <td>14000US48085030203</td>\n",
       "      <td>Collin County</td>\n",
       "      <td>4052</td>\n",
       "      <td>87360</td>\n",
       "      <td>873</td>\n",
       "      <td>4982</td>\n",
       "      <td>2646</td>\n",
       "      <td>407</td>\n",
       "      <td>152</td>\n",
       "      <td>958</td>\n",
       "      <td>3.65</td>\n",
       "      <td>358</td>\n",
       "      <td>1.3200</td>\n",
       "      <td>752</td>\n",
       "    </tr>\n",
       "    <tr>\n",
       "      <th>4</th>\n",
       "      <td>14000US48085030301</td>\n",
       "      <td>Collin County</td>\n",
       "      <td>1780</td>\n",
       "      <td>100444</td>\n",
       "      <td>456</td>\n",
       "      <td>2106</td>\n",
       "      <td>1007</td>\n",
       "      <td>56</td>\n",
       "      <td>61</td>\n",
       "      <td>258</td>\n",
       "      <td>3.39</td>\n",
       "      <td>34</td>\n",
       "      <td>6.1803</td>\n",
       "      <td>692</td>\n",
       "    </tr>\n",
       "  </tbody>\n",
       "</table>\n",
       "</div>"
      ],
      "text/plain": [
       "                geoid          County   Edu  Income  Poverty  Enroll  \\\n",
       "0  14000US48085030100   Collin County   849   63208      726    1748   \n",
       "1  14000US48085030201   Collin County   605   77847      253     912   \n",
       "2  14000US48085030202   Collin County   398   75506      316     436   \n",
       "3  14000US48085030203   Collin County  4052   87360      873    4982   \n",
       "4  14000US48085030301   Collin County  1780  100444      456    2106   \n",
       "\n",
       "   Both_Parents  Single_Mother  Single_Father  Orphanchild  Avg_Family_size  \\\n",
       "0           612             81             41          404             3.50   \n",
       "1           330             39             46          136             3.19   \n",
       "2           354             16              0          158             3.23   \n",
       "3          2646            407            152          958             3.65   \n",
       "4          1007             56             61          258             3.39   \n",
       "\n",
       "   PoorChild  Disablity  N_of_Owners  \n",
       "0        122     8.5690         1649  \n",
       "1         58     0.0000         2607  \n",
       "2         53     0.0000         1505  \n",
       "3        358     1.3200          752  \n",
       "4         34     6.1803          692  "
      ]
     },
     "execution_count": 4,
     "metadata": {},
     "output_type": "execute_result"
    }
   ],
   "source": [
    "family.head()"
   ]
  },
  {
   "cell_type": "code",
   "execution_count": 5,
   "metadata": {},
   "outputs": [
    {
     "name": "stdout",
     "output_type": "stream",
     "text": [
      "<class 'pandas.core.frame.DataFrame'>\n",
      "Int64Index: 1172 entries, 0 to 1171\n",
      "Data columns (total 14 columns):\n",
      "geoid              1172 non-null object\n",
      "County             1172 non-null object\n",
      "Edu                1172 non-null int64\n",
      "Income             1172 non-null int64\n",
      "Poverty            1172 non-null int64\n",
      "Enroll             1172 non-null int64\n",
      "Both_Parents       1172 non-null int64\n",
      "Single_Mother      1172 non-null int64\n",
      "Single_Father      1172 non-null int64\n",
      "Orphanchild        1172 non-null int64\n",
      "Avg_Family_size    1172 non-null float64\n",
      "PoorChild          1172 non-null int64\n",
      "Disablity          1172 non-null float64\n",
      "N_of_Owners        1172 non-null int64\n",
      "dtypes: float64(2), int64(10), object(2)\n",
      "memory usage: 137.3+ KB\n"
     ]
    }
   ],
   "source": [
    "family.info()"
   ]
  },
  {
   "cell_type": "code",
   "execution_count": 6,
   "metadata": {},
   "outputs": [],
   "source": [
    "df = family.drop(['geoid','County'], axis = 1)"
   ]
  },
  {
   "cell_type": "markdown",
   "metadata": {},
   "source": [
    "### Data Preprocessing "
   ]
  },
  {
   "cell_type": "markdown",
   "metadata": {},
   "source": [
    "#### Data Standardization"
   ]
  },
  {
   "cell_type": "code",
   "execution_count": 7,
   "metadata": {
    "scrolled": true
   },
   "outputs": [
    {
     "name": "stderr",
     "output_type": "stream",
     "text": [
      "D:\\Anaconda\\lib\\site-packages\\sklearn\\preprocessing\\data.py:625: DataConversionWarning: Data with input dtype int64, float64 were all converted to float64 by StandardScaler.\n",
      "  return self.partial_fit(X, y)\n",
      "D:\\Anaconda\\lib\\site-packages\\sklearn\\base.py:462: DataConversionWarning: Data with input dtype int64, float64 were all converted to float64 by StandardScaler.\n",
      "  return self.fit(X, **fit_params).transform(X)\n"
     ]
    }
   ],
   "source": [
    "from sklearn.preprocessing import StandardScaler\n",
    "scaler = StandardScaler()\n",
    "scaled_df = scaler.fit_transform(df)\n",
    "scaled_df = pd.DataFrame(scaled_df, columns=df.columns)"
   ]
  },
  {
   "cell_type": "code",
   "execution_count": 8,
   "metadata": {},
   "outputs": [],
   "source": [
    "family_scaled = pd.concat([family[['geoid','County']],scaled_df], axis=1, sort=False)"
   ]
  },
  {
   "cell_type": "code",
   "execution_count": 9,
   "metadata": {},
   "outputs": [
    {
     "data": {
      "text/html": [
       "<div>\n",
       "<style scoped>\n",
       "    .dataframe tbody tr th:only-of-type {\n",
       "        vertical-align: middle;\n",
       "    }\n",
       "\n",
       "    .dataframe tbody tr th {\n",
       "        vertical-align: top;\n",
       "    }\n",
       "\n",
       "    .dataframe thead th {\n",
       "        text-align: right;\n",
       "    }\n",
       "</style>\n",
       "<table border=\"1\" class=\"dataframe\">\n",
       "  <thead>\n",
       "    <tr style=\"text-align: right;\">\n",
       "      <th></th>\n",
       "      <th>geoid</th>\n",
       "      <th>County</th>\n",
       "      <th>Edu</th>\n",
       "      <th>Income</th>\n",
       "      <th>Poverty</th>\n",
       "      <th>Enroll</th>\n",
       "      <th>Both_Parents</th>\n",
       "      <th>Single_Mother</th>\n",
       "      <th>Single_Father</th>\n",
       "      <th>Orphanchild</th>\n",
       "      <th>Avg_Family_size</th>\n",
       "      <th>PoorChild</th>\n",
       "      <th>Disablity</th>\n",
       "      <th>N_of_Owners</th>\n",
       "    </tr>\n",
       "  </thead>\n",
       "  <tbody>\n",
       "    <tr>\n",
       "      <th>0</th>\n",
       "      <td>14000US48085030100</td>\n",
       "      <td>Collin County</td>\n",
       "      <td>-0.234267</td>\n",
       "      <td>-0.193491</td>\n",
       "      <td>0.017628</td>\n",
       "      <td>0.276220</td>\n",
       "      <td>0.386642</td>\n",
       "      <td>-0.589855</td>\n",
       "      <td>-0.115320</td>\n",
       "      <td>0.868732</td>\n",
       "      <td>0.194392</td>\n",
       "      <td>0.203504</td>\n",
       "      <td>-0.139411</td>\n",
       "      <td>0.006345</td>\n",
       "    </tr>\n",
       "    <tr>\n",
       "      <th>1</th>\n",
       "      <td>14000US48085030201</td>\n",
       "      <td>Collin County</td>\n",
       "      <td>-0.525638</td>\n",
       "      <td>0.189894</td>\n",
       "      <td>-0.749177</td>\n",
       "      <td>-0.574300</td>\n",
       "      <td>-0.310755</td>\n",
       "      <td>-0.942439</td>\n",
       "      <td>-0.008292</td>\n",
       "      <td>-0.465435</td>\n",
       "      <td>-0.448896</td>\n",
       "      <td>-0.340294</td>\n",
       "      <td>-0.448047</td>\n",
       "      <td>0.709165</td>\n",
       "    </tr>\n",
       "    <tr>\n",
       "      <th>2</th>\n",
       "      <td>14000US48085030202</td>\n",
       "      <td>Collin County</td>\n",
       "      <td>-0.772825</td>\n",
       "      <td>0.128585</td>\n",
       "      <td>-0.647044</td>\n",
       "      <td>-1.058567</td>\n",
       "      <td>-0.251402</td>\n",
       "      <td>-1.135522</td>\n",
       "      <td>-0.992947</td>\n",
       "      <td>-0.355914</td>\n",
       "      <td>-0.365891</td>\n",
       "      <td>-0.382779</td>\n",
       "      <td>-0.448047</td>\n",
       "      <td>-0.099298</td>\n",
       "    </tr>\n",
       "    <tr>\n",
       "      <th>3</th>\n",
       "      <td>14000US48085030203</td>\n",
       "      <td>Collin County</td>\n",
       "      <td>3.590570</td>\n",
       "      <td>0.439032</td>\n",
       "      <td>0.255937</td>\n",
       "      <td>3.566388</td>\n",
       "      <td>5.416804</td>\n",
       "      <td>2.146875</td>\n",
       "      <td>2.260697</td>\n",
       "      <td>3.626675</td>\n",
       "      <td>0.505661</td>\n",
       "      <td>2.208760</td>\n",
       "      <td>-0.400504</td>\n",
       "      <td>-0.651722</td>\n",
       "    </tr>\n",
       "    <tr>\n",
       "      <th>4</th>\n",
       "      <td>14000US48085030301</td>\n",
       "      <td>Collin County</td>\n",
       "      <td>0.877479</td>\n",
       "      <td>0.781693</td>\n",
       "      <td>-0.420083</td>\n",
       "      <td>0.640438</td>\n",
       "      <td>1.363493</td>\n",
       "      <td>-0.799727</td>\n",
       "      <td>0.312791</td>\n",
       "      <td>0.141909</td>\n",
       "      <td>-0.033871</td>\n",
       "      <td>-0.544219</td>\n",
       "      <td>-0.225447</td>\n",
       "      <td>-0.695740</td>\n",
       "    </tr>\n",
       "  </tbody>\n",
       "</table>\n",
       "</div>"
      ],
      "text/plain": [
       "                geoid          County       Edu    Income   Poverty    Enroll  \\\n",
       "0  14000US48085030100   Collin County -0.234267 -0.193491  0.017628  0.276220   \n",
       "1  14000US48085030201   Collin County -0.525638  0.189894 -0.749177 -0.574300   \n",
       "2  14000US48085030202   Collin County -0.772825  0.128585 -0.647044 -1.058567   \n",
       "3  14000US48085030203   Collin County  3.590570  0.439032  0.255937  3.566388   \n",
       "4  14000US48085030301   Collin County  0.877479  0.781693 -0.420083  0.640438   \n",
       "\n",
       "   Both_Parents  Single_Mother  Single_Father  Orphanchild  Avg_Family_size  \\\n",
       "0      0.386642      -0.589855      -0.115320     0.868732         0.194392   \n",
       "1     -0.310755      -0.942439      -0.008292    -0.465435        -0.448896   \n",
       "2     -0.251402      -1.135522      -0.992947    -0.355914        -0.365891   \n",
       "3      5.416804       2.146875       2.260697     3.626675         0.505661   \n",
       "4      1.363493      -0.799727       0.312791     0.141909        -0.033871   \n",
       "\n",
       "   PoorChild  Disablity  N_of_Owners  \n",
       "0   0.203504  -0.139411     0.006345  \n",
       "1  -0.340294  -0.448047     0.709165  \n",
       "2  -0.382779  -0.448047    -0.099298  \n",
       "3   2.208760  -0.400504    -0.651722  \n",
       "4  -0.544219  -0.225447    -0.695740  "
      ]
     },
     "execution_count": 9,
     "metadata": {},
     "output_type": "execute_result"
    }
   ],
   "source": [
    "family_scaled.head()"
   ]
  },
  {
   "cell_type": "code",
   "execution_count": 10,
   "metadata": {},
   "outputs": [],
   "source": [
    "family_only = family_scaled[['geoid', 'County','Orphanchild','Avg_Family_size', 'PoorChild', 'Disablity', 'N_of_Owners','Both_Parents','Single_Mother','Single_Father']]"
   ]
  },
  {
   "cell_type": "markdown",
   "metadata": {},
   "source": [
    "#### Collinearity Check"
   ]
  },
  {
   "cell_type": "code",
   "execution_count": 11,
   "metadata": {},
   "outputs": [
    {
     "data": {
      "text/plain": [
       "<matplotlib.axes._subplots.AxesSubplot at 0x1d7b9e58d30>"
      ]
     },
     "execution_count": 11,
     "metadata": {},
     "output_type": "execute_result"
    },
    {
     "data": {
      "image/png": "[encoded data removed]",
      "text/plain": [
       "<Figure size 842.4x595.44 with 2 Axes>"
      ]
     },
     "metadata": {},
     "output_type": "display_data"
    }
   ],
   "source": [
    "sns.set(rc={'figure.figsize':(11.7,8.27)})\n",
    "\n",
    "sns.heatmap(\n",
    "    family_only.corr(),cmap = \"YlGnBu\",\n",
    "    annot=True\n",
    ")"
   ]
  },
  {
   "cell_type": "markdown",
   "metadata": {},
   "source": [
    "### Methodology"
   ]
  },
  {
   "cell_type": "markdown",
   "metadata": {},
   "source": [
    "####  The pearson correlation method"
   ]
  },
  {
   "cell_type": "code",
   "execution_count": 12,
   "metadata": {},
   "outputs": [],
   "source": [
    "##  Constructing The Family Type Domain\n",
    "X = family_scaled[['Both_Parents','Single_Mother','Single_Father']]"
   ]
  },
  {
   "cell_type": "code",
   "execution_count": 13,
   "metadata": {},
   "outputs": [],
   "source": [
    "## X vs Poverty\n",
    "df_type = pd.concat([X, family_scaled['Poverty']], axis=1, sort=False)\n",
    "dfcor = df_type.corr().reset_index()\n",
    "s1 = dfcor.iloc[3,1:4].abs()"
   ]
  },
  {
   "cell_type": "code",
   "execution_count": 14,
   "metadata": {},
   "outputs": [
    {
     "data": {
      "text/plain": [
       "Both_Parents     0.0337658\n",
       "Single_Mother     0.614193\n",
       "Single_Father     0.352041\n",
       "Name: 3, dtype: object"
      ]
     },
     "execution_count": 14,
     "metadata": {},
     "output_type": "execute_result"
    }
   ],
   "source": [
    "s1/s1.sum()"
   ]
  },
  {
   "cell_type": "code",
   "execution_count": 15,
   "metadata": {},
   "outputs": [],
   "source": [
    "## X vs Edu\n",
    "df_type2 = pd.concat([X, family_scaled['Enroll']], axis=1, sort=False)\n",
    "dfcor2 = df_type2.corr().reset_index()\n",
    "s2 = dfcor2.iloc[3,1:4].abs()"
   ]
  },
  {
   "cell_type": "code",
   "execution_count": 16,
   "metadata": {},
   "outputs": [
    {
     "data": {
      "text/plain": [
       "Both_Parents     0.469575\n",
       "Single_Mother    0.280009\n",
       "Single_Father    0.250417\n",
       "Name: 3, dtype: object"
      ]
     },
     "execution_count": 16,
     "metadata": {},
     "output_type": "execute_result"
    }
   ],
   "source": [
    "s2/s2.sum()"
   ]
  },
  {
   "cell_type": "code",
   "execution_count": 17,
   "metadata": {},
   "outputs": [],
   "source": [
    "## X vs Income\n",
    "df_type3 = pd.concat([X, family_scaled['Income']], axis = 1)\n",
    "dfcor3 = df_type3.corr().reset_index()\n",
    "s3 = dfcor3.iloc[3,1:4].abs()"
   ]
  },
  {
   "cell_type": "code",
   "execution_count": 18,
   "metadata": {},
   "outputs": [
    {
     "data": {
      "text/plain": [
       "Both_Parents     0.405018\n",
       "Single_Mother    0.397123\n",
       "Single_Father    0.197859\n",
       "Name: 3, dtype: object"
      ]
     },
     "execution_count": 18,
     "metadata": {},
     "output_type": "execute_result"
    }
   ],
   "source": [
    "s3/s3.sum()"
   ]
  },
  {
   "cell_type": "code",
   "execution_count": 19,
   "metadata": {},
   "outputs": [],
   "source": [
    "ss = (s1+s2+s3)/3"
   ]
  },
  {
   "cell_type": "code",
   "execution_count": 20,
   "metadata": {},
   "outputs": [],
   "source": [
    "s = ss/ss.sum()"
   ]
  },
  {
   "cell_type": "code",
   "execution_count": 21,
   "metadata": {},
   "outputs": [],
   "source": [
    "## Domain for family_type, more opportuniy, resverse \n",
    "family_scaled['TypeScore'] = 0.34*family_scaled['Both_Parents'] - 0.40*family_scaled['Single_Mother'] - 0.26*family_scaled['Single_Father']"
   ]
  },
  {
   "cell_type": "code",
   "execution_count": 22,
   "metadata": {},
   "outputs": [],
   "source": [
    "family_scaled.drop(['Both_Parents','Single_Mother','Single_Father'], axis = 1, inplace = True)"
   ]
  },
  {
   "cell_type": "code",
   "execution_count": 23,
   "metadata": {},
   "outputs": [
    {
     "data": {
      "text/html": [
       "<div>\n",
       "<style scoped>\n",
       "    .dataframe tbody tr th:only-of-type {\n",
       "        vertical-align: middle;\n",
       "    }\n",
       "\n",
       "    .dataframe tbody tr th {\n",
       "        vertical-align: top;\n",
       "    }\n",
       "\n",
       "    .dataframe thead th {\n",
       "        text-align: right;\n",
       "    }\n",
       "</style>\n",
       "<table border=\"1\" class=\"dataframe\">\n",
       "  <thead>\n",
       "    <tr style=\"text-align: right;\">\n",
       "      <th></th>\n",
       "      <th>geoid</th>\n",
       "      <th>County</th>\n",
       "      <th>Edu</th>\n",
       "      <th>Income</th>\n",
       "      <th>Poverty</th>\n",
       "      <th>Enroll</th>\n",
       "      <th>Orphanchild</th>\n",
       "      <th>Avg_Family_size</th>\n",
       "      <th>PoorChild</th>\n",
       "      <th>Disablity</th>\n",
       "      <th>N_of_Owners</th>\n",
       "      <th>TypeScore</th>\n",
       "    </tr>\n",
       "  </thead>\n",
       "  <tbody>\n",
       "    <tr>\n",
       "      <th>0</th>\n",
       "      <td>14000US48085030100</td>\n",
       "      <td>Collin County</td>\n",
       "      <td>-0.234267</td>\n",
       "      <td>-0.193491</td>\n",
       "      <td>0.017628</td>\n",
       "      <td>0.276220</td>\n",
       "      <td>0.868732</td>\n",
       "      <td>0.194392</td>\n",
       "      <td>0.203504</td>\n",
       "      <td>-0.139411</td>\n",
       "      <td>0.006345</td>\n",
       "      <td>0.397383</td>\n",
       "    </tr>\n",
       "    <tr>\n",
       "      <th>1</th>\n",
       "      <td>14000US48085030201</td>\n",
       "      <td>Collin County</td>\n",
       "      <td>-0.525638</td>\n",
       "      <td>0.189894</td>\n",
       "      <td>-0.749177</td>\n",
       "      <td>-0.574300</td>\n",
       "      <td>-0.465435</td>\n",
       "      <td>-0.448896</td>\n",
       "      <td>-0.340294</td>\n",
       "      <td>-0.448047</td>\n",
       "      <td>0.709165</td>\n",
       "      <td>0.273475</td>\n",
       "    </tr>\n",
       "    <tr>\n",
       "      <th>2</th>\n",
       "      <td>14000US48085030202</td>\n",
       "      <td>Collin County</td>\n",
       "      <td>-0.772825</td>\n",
       "      <td>0.128585</td>\n",
       "      <td>-0.647044</td>\n",
       "      <td>-1.058567</td>\n",
       "      <td>-0.355914</td>\n",
       "      <td>-0.365891</td>\n",
       "      <td>-0.382779</td>\n",
       "      <td>-0.448047</td>\n",
       "      <td>-0.099298</td>\n",
       "      <td>0.626898</td>\n",
       "    </tr>\n",
       "    <tr>\n",
       "      <th>3</th>\n",
       "      <td>14000US48085030203</td>\n",
       "      <td>Collin County</td>\n",
       "      <td>3.590570</td>\n",
       "      <td>0.439032</td>\n",
       "      <td>0.255937</td>\n",
       "      <td>3.566388</td>\n",
       "      <td>3.626675</td>\n",
       "      <td>0.505661</td>\n",
       "      <td>2.208760</td>\n",
       "      <td>-0.400504</td>\n",
       "      <td>-0.651722</td>\n",
       "      <td>0.395182</td>\n",
       "    </tr>\n",
       "    <tr>\n",
       "      <th>4</th>\n",
       "      <td>14000US48085030301</td>\n",
       "      <td>Collin County</td>\n",
       "      <td>0.877479</td>\n",
       "      <td>0.781693</td>\n",
       "      <td>-0.420083</td>\n",
       "      <td>0.640438</td>\n",
       "      <td>0.141909</td>\n",
       "      <td>-0.033871</td>\n",
       "      <td>-0.544219</td>\n",
       "      <td>-0.225447</td>\n",
       "      <td>-0.695740</td>\n",
       "      <td>0.702152</td>\n",
       "    </tr>\n",
       "  </tbody>\n",
       "</table>\n",
       "</div>"
      ],
      "text/plain": [
       "                geoid          County       Edu    Income   Poverty    Enroll  \\\n",
       "0  14000US48085030100   Collin County -0.234267 -0.193491  0.017628  0.276220   \n",
       "1  14000US48085030201   Collin County -0.525638  0.189894 -0.749177 -0.574300   \n",
       "2  14000US48085030202   Collin County -0.772825  0.128585 -0.647044 -1.058567   \n",
       "3  14000US48085030203   Collin County  3.590570  0.439032  0.255937  3.566388   \n",
       "4  14000US48085030301   Collin County  0.877479  0.781693 -0.420083  0.640438   \n",
       "\n",
       "   Orphanchild  Avg_Family_size  PoorChild  Disablity  N_of_Owners  TypeScore  \n",
       "0     0.868732         0.194392   0.203504  -0.139411     0.006345   0.397383  \n",
       "1    -0.465435        -0.448896  -0.340294  -0.448047     0.709165   0.273475  \n",
       "2    -0.355914        -0.365891  -0.382779  -0.448047    -0.099298   0.626898  \n",
       "3     3.626675         0.505661   2.208760  -0.400504    -0.651722   0.395182  \n",
       "4     0.141909        -0.033871  -0.544219  -0.225447    -0.695740   0.702152  "
      ]
     },
     "execution_count": 23,
     "metadata": {},
     "output_type": "execute_result"
    }
   ],
   "source": [
    "family_scaled.head()"
   ]
  },
  {
   "cell_type": "markdown",
   "metadata": {},
   "source": [
    "#### Final Score - Regression coefficients"
   ]
  },
  {
   "cell_type": "code",
   "execution_count": 26,
   "metadata": {},
   "outputs": [],
   "source": [
    "from statsmodels.api import OLS"
   ]
  },
  {
   "cell_type": "code",
   "execution_count": 27,
   "metadata": {},
   "outputs": [],
   "source": [
    "x_f = family_scaled[['Orphanchild','Avg_Family_size', 'PoorChild', 'Disablity', 'N_of_Owners','TypeScore']]"
   ]
  },
  {
   "cell_type": "code",
   "execution_count": 28,
   "metadata": {
    "scrolled": true
   },
   "outputs": [
    {
     "data": {
      "text/html": [
       "<table class=\"simpletable\">\n",
       "<caption>OLS Regression Results</caption>\n",
       "<tr>\n",
       "  <th>Dep. Variable:</th>         <td>Income</td>      <th>  R-squared (uncentered):</th>      <td>   0.446</td> \n",
       "</tr>\n",
       "<tr>\n",
       "  <th>Model:</th>                   <td>OLS</td>       <th>  Adj. R-squared (uncentered):</th> <td>   0.443</td> \n",
       "</tr>\n",
       "<tr>\n",
       "  <th>Method:</th>             <td>Least Squares</td>  <th>  F-statistic:       </th>          <td>   156.4</td> \n",
       "</tr>\n",
       "<tr>\n",
       "  <th>Date:</th>             <td>Mon, 27 Apr 2020</td> <th>  Prob (F-statistic):</th>          <td>1.05e-145</td>\n",
       "</tr>\n",
       "<tr>\n",
       "  <th>Time:</th>                 <td>11:33:44</td>     <th>  Log-Likelihood:    </th>          <td> -1317.0</td> \n",
       "</tr>\n",
       "<tr>\n",
       "  <th>No. Observations:</th>      <td>  1172</td>      <th>  AIC:               </th>          <td>   2646.</td> \n",
       "</tr>\n",
       "<tr>\n",
       "  <th>Df Residuals:</th>          <td>  1166</td>      <th>  BIC:               </th>          <td>   2676.</td> \n",
       "</tr>\n",
       "<tr>\n",
       "  <th>Df Model:</th>              <td>     6</td>      <th>                     </th>              <td> </td>    \n",
       "</tr>\n",
       "<tr>\n",
       "  <th>Covariance Type:</th>      <td>nonrobust</td>    <th>                     </th>              <td> </td>    \n",
       "</tr>\n",
       "</table>\n",
       "<table class=\"simpletable\">\n",
       "<tr>\n",
       "         <td></td>            <th>coef</th>     <th>std err</th>      <th>t</th>      <th>P>|t|</th>  <th>[0.025</th>    <th>0.975]</th>  \n",
       "</tr>\n",
       "<tr>\n",
       "  <th>Orphanchild</th>     <td>    0.1318</td> <td>    0.027</td> <td>    4.912</td> <td> 0.000</td> <td>    0.079</td> <td>    0.184</td>\n",
       "</tr>\n",
       "<tr>\n",
       "  <th>Avg_Family_size</th> <td>   -0.2134</td> <td>    0.028</td> <td>   -7.745</td> <td> 0.000</td> <td>   -0.267</td> <td>   -0.159</td>\n",
       "</tr>\n",
       "<tr>\n",
       "  <th>PoorChild</th>       <td>   -0.1686</td> <td>    0.030</td> <td>   -5.638</td> <td> 0.000</td> <td>   -0.227</td> <td>   -0.110</td>\n",
       "</tr>\n",
       "<tr>\n",
       "  <th>Disablity</th>       <td>   -0.0159</td> <td>    0.023</td> <td>   -0.696</td> <td> 0.487</td> <td>   -0.061</td> <td>    0.029</td>\n",
       "</tr>\n",
       "<tr>\n",
       "  <th>N_of_Owners</th>     <td>    0.0763</td> <td>    0.023</td> <td>    3.358</td> <td> 0.001</td> <td>    0.032</td> <td>    0.121</td>\n",
       "</tr>\n",
       "<tr>\n",
       "  <th>TypeScore</th>       <td>    0.8984</td> <td>    0.048</td> <td>   18.526</td> <td> 0.000</td> <td>    0.803</td> <td>    0.994</td>\n",
       "</tr>\n",
       "</table>\n",
       "<table class=\"simpletable\">\n",
       "<tr>\n",
       "  <th>Omnibus:</th>       <td>382.463</td> <th>  Durbin-Watson:     </th> <td>   1.166</td>\n",
       "</tr>\n",
       "<tr>\n",
       "  <th>Prob(Omnibus):</th> <td> 0.000</td>  <th>  Jarque-Bera (JB):  </th> <td>1510.139</td>\n",
       "</tr>\n",
       "<tr>\n",
       "  <th>Skew:</th>          <td> 1.524</td>  <th>  Prob(JB):          </th> <td>    0.00</td>\n",
       "</tr>\n",
       "<tr>\n",
       "  <th>Kurtosis:</th>      <td> 7.651</td>  <th>  Cond. No.          </th> <td>    3.46</td>\n",
       "</tr>\n",
       "</table><br/><br/>Warnings:<br/>[1] Standard Errors assume that the covariance matrix of the errors is correctly specified."
      ],
      "text/plain": [
       "<class 'statsmodels.iolib.summary.Summary'>\n",
       "\"\"\"\n",
       "                                 OLS Regression Results                                \n",
       "=======================================================================================\n",
       "Dep. Variable:                 Income   R-squared (uncentered):                   0.446\n",
       "Model:                            OLS   Adj. R-squared (uncentered):              0.443\n",
       "Method:                 Least Squares   F-statistic:                              156.4\n",
       "Date:                Mon, 27 Apr 2020   Prob (F-statistic):                   1.05e-145\n",
       "Time:                        11:33:44   Log-Likelihood:                         -1317.0\n",
       "No. Observations:                1172   AIC:                                      2646.\n",
       "Df Residuals:                    1166   BIC:                                      2676.\n",
       "Df Model:                           6                                                  \n",
       "Covariance Type:            nonrobust                                                  \n",
       "===================================================================================\n",
       "                      coef    std err          t      P>|t|      [0.025      0.975]\n",
       "-----------------------------------------------------------------------------------\n",
       "Orphanchild         0.1318      0.027      4.912      0.000       0.079       0.184\n",
       "Avg_Family_size    -0.2134      0.028     -7.745      0.000      -0.267      -0.159\n",
       "PoorChild          -0.1686      0.030     -5.638      0.000      -0.227      -0.110\n",
       "Disablity          -0.0159      0.023     -0.696      0.487      -0.061       0.029\n",
       "N_of_Owners         0.0763      0.023      3.358      0.001       0.032       0.121\n",
       "TypeScore           0.8984      0.048     18.526      0.000       0.803       0.994\n",
       "==============================================================================\n",
       "Omnibus:                      382.463   Durbin-Watson:                   1.166\n",
       "Prob(Omnibus):                  0.000   Jarque-Bera (JB):             1510.139\n",
       "Skew:                           1.524   Prob(JB):                         0.00\n",
       "Kurtosis:                       7.651   Cond. No.                         3.46\n",
       "==============================================================================\n",
       "\n",
       "Warnings:\n",
       "[1] Standard Errors assume that the covariance matrix of the errors is correctly specified.\n",
       "\"\"\""
      ]
     },
     "execution_count": 28,
     "metadata": {},
     "output_type": "execute_result"
    }
   ],
   "source": [
    "lreg_f1 = OLS(family_scaled['Income'], x_f)\n",
    "lreg_f1.fit().summary()"
   ]
  },
  {
   "cell_type": "code",
   "execution_count": 36,
   "metadata": {},
   "outputs": [],
   "source": [
    "l = [0.15+0.21+0.18+0.01+0.08+0.84]"
   ]
  },
  {
   "cell_type": "code",
   "execution_count": 37,
   "metadata": {},
   "outputs": [
    {
     "data": {
      "text/plain": [
       "1.47"
      ]
     },
     "execution_count": 37,
     "metadata": {},
     "output_type": "execute_result"
    }
   ],
   "source": [
    "np.array(l).sum()"
   ]
  },
  {
   "cell_type": "code",
   "execution_count": 38,
   "metadata": {},
   "outputs": [
    {
     "data": {
      "text/plain": [
       "0.10204081632653061"
      ]
     },
     "execution_count": 38,
     "metadata": {},
     "output_type": "execute_result"
    },
    {
     "data": {
      "text/plain": [
       "-0.14285714285714285"
      ]
     },
     "execution_count": 38,
     "metadata": {},
     "output_type": "execute_result"
    },
    {
     "data": {
      "text/plain": [
       "-0.11564625850340136"
      ]
     },
     "execution_count": 38,
     "metadata": {},
     "output_type": "execute_result"
    },
    {
     "data": {
      "text/plain": [
       "-0.006802721088435375"
      ]
     },
     "execution_count": 38,
     "metadata": {},
     "output_type": "execute_result"
    },
    {
     "data": {
      "text/plain": [
       "0.054421768707483"
      ]
     },
     "execution_count": 38,
     "metadata": {},
     "output_type": "execute_result"
    },
    {
     "data": {
      "text/plain": [
       "0.5714285714285714"
      ]
     },
     "execution_count": 38,
     "metadata": {},
     "output_type": "execute_result"
    }
   ],
   "source": [
    "0.15/1.47 #orphan\n",
    "-0.21/1.47 #avg\n",
    "-0.17/1.47 #PoorChild\n",
    "-0.01/1.47 #Dis\n",
    "0.08/1.47  #N\n",
    "0.84/1.47  #TS"
   ]
  },
  {
   "cell_type": "code",
   "execution_count": 39,
   "metadata": {},
   "outputs": [],
   "source": [
    "family_scaled['final'] = 0.10*family_scaled['Orphanchild'] - 0.14*family_scaled['Avg_Family_size'] - 0.12*family_scaled['PoorChild'] - 0.01*family_scaled['Disablity'] + 0.05*family_scaled['N_of_Owners'] + 0.57*family_scaled['TypeScore']"
   ]
  },
  {
   "cell_type": "code",
   "execution_count": 40,
   "metadata": {},
   "outputs": [
    {
     "data": {
      "text/plain": [
       "<matplotlib.axes._subplots.AxesSubplot at 0x26d21e34828>"
      ]
     },
     "execution_count": 40,
     "metadata": {},
     "output_type": "execute_result"
    },
    {
     "data": {
      "image/png": "[encoded data removed]",
      "text/plain": [
       "<Figure size 842.4x595.44 with 1 Axes>"
      ]
     },
     "metadata": {},
     "output_type": "display_data"
    }
   ],
   "source": [
    "family_scaled['final'].hist()"
   ]
  },
  {
   "cell_type": "markdown",
   "metadata": {},
   "source": [
    "#### Scale Final Score "
   ]
  },
  {
   "cell_type": "code",
   "execution_count": 45,
   "metadata": {},
   "outputs": [],
   "source": [
    "from sklearn.preprocessing import MinMaxScaler"
   ]
  },
  {
   "cell_type": "code",
   "execution_count": 46,
   "metadata": {},
   "outputs": [],
   "source": [
    "scaler = MinMaxScaler()\n",
    "f = np.array(family_scaled['final']).reshape(-1,1)\n",
    "final_score = scaler.fit_transform(f)"
   ]
  },
  {
   "cell_type": "code",
   "execution_count": 47,
   "metadata": {},
   "outputs": [],
   "source": [
    "family_scaled['final'] = final_score*100"
   ]
  },
  {
   "cell_type": "code",
   "execution_count": 48,
   "metadata": {},
   "outputs": [
    {
     "data": {
      "text/plain": [
       "<matplotlib.axes._subplots.AxesSubplot at 0x26d22553828>"
      ]
     },
     "execution_count": 48,
     "metadata": {},
     "output_type": "execute_result"
    },
    {
     "data": {
      "image/png": "[encoded data removed]",
      "text/plain": [
       "<Figure size 842.4x595.44 with 1 Axes>"
      ]
     },
     "metadata": {},
     "output_type": "display_data"
    }
   ],
   "source": [
    "family_scaled['final'].hist()"
   ]
  }
 ],
 "metadata": {
  "kernelspec": {
   "display_name": "Python 3",
   "language": "python",
   "name": "python3"
  },
  "language_info": {
   "codemirror_mode": {
    "name": "ipython",
    "version": 3
   },
   "file_extension": ".py",
   "mimetype": "text/x-python",
   "name": "python",
   "nbconvert_exporter": "python",
   "pygments_lexer": "ipython3",
   "version": "3.7.1"
  }
 },
 "nbformat": 4,
 "nbformat_minor": 2
}
